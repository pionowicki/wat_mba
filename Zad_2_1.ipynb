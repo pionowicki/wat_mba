{
 "cells": [
  {
   "cell_type": "code",
   "execution_count": 91,
   "metadata": {},
   "outputs": [],
   "source": [
    "import matplotlib.pyplot as plt\n",
    "import numpy as np\n",
    "import pandas as pd\n",
    "import pulp"
   ]
  },
  {
   "cell_type": "code",
   "execution_count": 115,
   "metadata": {},
   "outputs": [],
   "source": [
    "# Typy specjalistów i ich liczność\n",
    "specialists = {'A': 17, 'B': 12, 'C': 8, 'D': 10}\n",
    "\n",
    "# Rodzaje zadań i ich zapotrzebowanie\n",
    "tasks = {'I': 10, 'II': 15, 'III': 12}\n",
    "\n",
    "# Wydajność specjalistów\n",
    "efficiency = {\n",
    "    'A': {'I': 14.0, 'II': 8.0, 'III': 15.0},\n",
    "    'B': {'I': 9.0, 'II': 9.0, 'III': 10.0},\n",
    "    'C': {'I': 6.0, 'II': 7.0, 'III': 6.0},\n",
    "    'D': {'I': 11.0, 'II': 4.0, 'III': 9.0}\n",
    "}\n",
    "\n",
    "# Koszty utrzymania specjalistów\n",
    "\n",
    "costs = {\n",
    "    'A': {'I': 12.0, 'II': 12.0, 'III': 18.0},\n",
    "    'B': {'I': 8.0, 'II': 19.0, 'III': 14.0},\n",
    "    'C': {'I': 10.0, 'II': 15.0, 'III': 11.0},\n",
    "    'D': {'I': 12.0, 'II': 13.0, 'III': 14.0}\n",
    "}\n"
   ]
  },
  {
   "cell_type": "code",
   "execution_count": 116,
   "metadata": {},
   "outputs": [
    {
     "data": {
      "text/plain": [
       "(  Specialist Type  Availability\n",
       " 0               A            17\n",
       " 1               B            12\n",
       " 2               C             8\n",
       " 3               D            10,\n",
       "   Task Type  Demand\n",
       " 0         I      10\n",
       " 1        II      15\n",
       " 2       III      12,\n",
       "    Specialist Task  Efficiency\n",
       " 0           A    I        14.0\n",
       " 1           A   II         8.0\n",
       " 2           A  III        15.0\n",
       " 3           B    I         9.0\n",
       " 4           B   II         9.0\n",
       " 5           B  III        10.0\n",
       " 6           C    I         6.0\n",
       " 7           C   II         7.0\n",
       " 8           C  III         6.0\n",
       " 9           D    I        11.0\n",
       " 10          D   II         4.0\n",
       " 11          D  III         9.0,\n",
       "    Specialist Task  Cost\n",
       " 0           A    I  12.0\n",
       " 1           A   II  12.0\n",
       " 2           A  III  18.0\n",
       " 3           B    I   8.0\n",
       " 4           B   II  19.0\n",
       " 5           B  III  14.0\n",
       " 6           C    I  10.0\n",
       " 7           C   II  15.0\n",
       " 8           C  III  11.0\n",
       " 9           D    I  12.0\n",
       " 10          D   II  13.0\n",
       " 11          D  III  14.0)"
      ]
     },
     "execution_count": 116,
     "metadata": {},
     "output_type": "execute_result"
    }
   ],
   "source": [
    "# Przygotowanie danych do wyświetlenia w tabelach\n",
    "\n",
    "# Dane dotyczące specjalistów\n",
    "specialists_data = {'Specialist Type': list(specialists.keys()), 'Availability': list(specialists.values())}\n",
    "specialists_df = pd.DataFrame(specialists_data)\n",
    "\n",
    "# Dane dotyczące zadań\n",
    "tasks_data = {'Task Type': list(tasks.keys()), 'Demand': list(tasks.values())}\n",
    "tasks_df = pd.DataFrame(tasks_data)\n",
    "\n",
    "# Dane dotyczące wydajności\n",
    "efficiency_data = []\n",
    "for specialist, task_eff in efficiency.items():\n",
    "    for task, eff in task_eff.items():\n",
    "        efficiency_data.append({'Specialist': specialist, 'Task': task, 'Efficiency': eff})\n",
    "efficiency_df = pd.DataFrame(efficiency_data)\n",
    "\n",
    "# Dane dotyczące kosztów\n",
    "costs_data = []\n",
    "for specialist, task_costs in costs.items():\n",
    "    for task, cost in task_costs.items():\n",
    "        costs_data.append({'Specialist': specialist, 'Task': task, 'Cost': cost})\n",
    "costs_df = pd.DataFrame(costs_data)\n",
    "\n",
    "# Wyświetlenie DataFrame'ów\n",
    "specialists_df, tasks_df, efficiency_df, costs_df"
   ]
  },
  {
   "cell_type": "code",
   "execution_count": 117,
   "metadata": {},
   "outputs": [],
   "source": [
    "# Wagi dla celów optymalizacji (przykładowe wartości)\n",
    "w_efficiency = 1.0  # Waga dla wydajności\n",
    "w_cost = 0.01       # Waga dla kosztów, może wymagać dostosowania\n"
   ]
  },
  {
   "cell_type": "code",
   "execution_count": 118,
   "metadata": {},
   "outputs": [
    {
     "name": "stdout",
     "output_type": "stream",
     "text": [
      "Specialist: A, Task: I\n",
      "Specialist: A, Task: II\n",
      "Specialist: A, Task: III\n",
      "Specialist: B, Task: I\n",
      "Specialist: B, Task: II\n",
      "Specialist: B, Task: III\n",
      "Specialist: C, Task: I\n",
      "Specialist: C, Task: II\n",
      "Specialist: C, Task: III\n",
      "Specialist: D, Task: I\n",
      "Specialist: D, Task: II\n",
      "Specialist: D, Task: III\n"
     ]
    }
   ],
   "source": [
    "# print((s, t) for s in specialists for t in tasks)\n",
    "\n",
    "for s, t in ((s, t) for s in specialists for t in tasks):\n",
    "    print(f\"Specialist: {s}, Task: {t}\")"
   ]
  },
  {
   "cell_type": "code",
   "execution_count": 119,
   "metadata": {},
   "outputs": [],
   "source": [
    "# Inicjalizacja modelu\n",
    "model = pulp.LpProblem(\"Optimal_Specialist_Allocation\", pulp.LpMaximize)\n",
    "\n",
    "# Zmienne decyzyjne\n",
    "allocation = pulp.LpVariable.dicts(\"Allocation\", \n",
    "                                   ((s, t) for s in specialists for t in tasks), lowBound=0, cat='Integer')\n"
   ]
  },
  {
   "cell_type": "code",
   "execution_count": 120,
   "metadata": {},
   "outputs": [],
   "source": [
    "# Funkcja celu - zbilansowanie wydajności i kosztów\n",
    "model += (w_efficiency * pulp.lpSum([efficiency[s][t] * allocation[(s, t)] for s in specialists for t in tasks]) -\n",
    "         w_cost * pulp.lpSum([costs[s][t] * allocation[(s, t)] for s in specialists for t in tasks]))\n"
   ]
  },
  {
   "cell_type": "code",
   "execution_count": 121,
   "metadata": {},
   "outputs": [],
   "source": [
    "# Ograniczenia dotyczące dostępności specjalistów\n",
    "for s in specialists:\n",
    "    model += pulp.lpSum([allocation[(s, t)] for t in tasks]) <= specialists[s]\n",
    "\n",
    "# Ograniczenia dotyczące zapotrzebowania na zadania\n",
    "for t in tasks:\n",
    "    model += pulp.lpSum([allocation[(s, t)] for s in specialists]) >= tasks[t]\n"
   ]
  },
  {
   "cell_type": "code",
   "execution_count": 122,
   "metadata": {},
   "outputs": [
    {
     "data": {
      "text/plain": [
       "1"
      ]
     },
     "execution_count": 122,
     "metadata": {},
     "output_type": "execute_result"
    }
   ],
   "source": [
    "# Rozwiązanie problemu\n",
    "model.solve()"
   ]
  },
  {
   "cell_type": "code",
   "execution_count": 123,
   "metadata": {},
   "outputs": [
    {
     "name": "stdout",
     "output_type": "stream",
     "text": [
      "Allocation_('A',_'I') = 0.0\n",
      "Allocation_('A',_'II') = 0.0\n",
      "Allocation_('A',_'III') = 17.0\n",
      "Allocation_('B',_'I') = 0.0\n",
      "Allocation_('B',_'II') = 7.0\n",
      "Allocation_('B',_'III') = 5.0\n",
      "Allocation_('C',_'I') = 0.0\n",
      "Allocation_('C',_'II') = 8.0\n",
      "Allocation_('C',_'III') = 0.0\n",
      "Allocation_('D',_'I') = 10.0\n",
      "Allocation_('D',_'II') = 0.0\n",
      "Allocation_('D',_'III') = 0.0\n"
     ]
    }
   ],
   "source": [
    "# Wyświetlenie wyników\n",
    "for v in model.variables():\n",
    "    # if v.varValue > 0:\n",
    "    print(v.name, \"=\", v.varValue)"
   ]
  },
  {
   "cell_type": "code",
   "execution_count": 125,
   "metadata": {},
   "outputs": [],
   "source": [
    "# Tworzenie DataFrame do wyświetlenia wyników\n",
    "results_df = pd.DataFrame(columns=[\"Specialist\", \"Task\", \"Allocation\"])\n",
    "\n"
   ]
  },
  {
   "cell_type": "code",
   "execution_count": 126,
   "metadata": {},
   "outputs": [
    {
     "name": "stderr",
     "output_type": "stream",
     "text": [
      "C:\\Users\\Piotr\\AppData\\Local\\Temp\\ipykernel_2648\\2240924012.py:5: FutureWarning: The behavior of DataFrame concatenation with empty or all-NA entries is deprecated. In a future version, this will no longer exclude empty or all-NA columns when determining the result dtypes. To retain the old behavior, exclude the relevant entries before the concat operation.\n",
      "  results_df = pd.concat([results_df, new_row], ignore_index=False)\n"
     ]
    }
   ],
   "source": [
    "for v in model.variables():\n",
    "    # if v.varValue > 0:\n",
    "    specialist, task = v.name.split(\"_\")[1:]\n",
    "    new_row = pd.DataFrame({\"Specialist\": [specialist], \"Task\": [task], \"Allocation\": [v.varValue]})\n",
    "    results_df = pd.concat([results_df, new_row], ignore_index=False)\n"
   ]
  },
  {
   "cell_type": "code",
   "execution_count": 127,
   "metadata": {},
   "outputs": [
    {
     "name": "stdout",
     "output_type": "stream",
     "text": [
      "Znaleziono optymalne rozwiązanie\n"
     ]
    },
    {
     "data": {
      "text/html": [
       "<div>\n",
       "<style scoped>\n",
       "    .dataframe tbody tr th:only-of-type {\n",
       "        vertical-align: middle;\n",
       "    }\n",
       "\n",
       "    .dataframe tbody tr th {\n",
       "        vertical-align: top;\n",
       "    }\n",
       "\n",
       "    .dataframe thead th {\n",
       "        text-align: right;\n",
       "    }\n",
       "</style>\n",
       "<table border=\"1\" class=\"dataframe\">\n",
       "  <thead>\n",
       "    <tr style=\"text-align: right;\">\n",
       "      <th></th>\n",
       "      <th>Specialist</th>\n",
       "      <th>Task</th>\n",
       "      <th>Allocation</th>\n",
       "    </tr>\n",
       "  </thead>\n",
       "  <tbody>\n",
       "    <tr>\n",
       "      <th>0</th>\n",
       "      <td>('A',</td>\n",
       "      <td>'I')</td>\n",
       "      <td>0.0</td>\n",
       "    </tr>\n",
       "    <tr>\n",
       "      <th>0</th>\n",
       "      <td>('A',</td>\n",
       "      <td>'II')</td>\n",
       "      <td>0.0</td>\n",
       "    </tr>\n",
       "    <tr>\n",
       "      <th>0</th>\n",
       "      <td>('A',</td>\n",
       "      <td>'III')</td>\n",
       "      <td>17.0</td>\n",
       "    </tr>\n",
       "    <tr>\n",
       "      <th>0</th>\n",
       "      <td>('B',</td>\n",
       "      <td>'I')</td>\n",
       "      <td>0.0</td>\n",
       "    </tr>\n",
       "    <tr>\n",
       "      <th>0</th>\n",
       "      <td>('B',</td>\n",
       "      <td>'II')</td>\n",
       "      <td>7.0</td>\n",
       "    </tr>\n",
       "    <tr>\n",
       "      <th>0</th>\n",
       "      <td>('B',</td>\n",
       "      <td>'III')</td>\n",
       "      <td>5.0</td>\n",
       "    </tr>\n",
       "    <tr>\n",
       "      <th>0</th>\n",
       "      <td>('C',</td>\n",
       "      <td>'I')</td>\n",
       "      <td>0.0</td>\n",
       "    </tr>\n",
       "    <tr>\n",
       "      <th>0</th>\n",
       "      <td>('C',</td>\n",
       "      <td>'II')</td>\n",
       "      <td>8.0</td>\n",
       "    </tr>\n",
       "    <tr>\n",
       "      <th>0</th>\n",
       "      <td>('C',</td>\n",
       "      <td>'III')</td>\n",
       "      <td>0.0</td>\n",
       "    </tr>\n",
       "    <tr>\n",
       "      <th>0</th>\n",
       "      <td>('D',</td>\n",
       "      <td>'I')</td>\n",
       "      <td>10.0</td>\n",
       "    </tr>\n",
       "    <tr>\n",
       "      <th>0</th>\n",
       "      <td>('D',</td>\n",
       "      <td>'II')</td>\n",
       "      <td>0.0</td>\n",
       "    </tr>\n",
       "    <tr>\n",
       "      <th>0</th>\n",
       "      <td>('D',</td>\n",
       "      <td>'III')</td>\n",
       "      <td>0.0</td>\n",
       "    </tr>\n",
       "  </tbody>\n",
       "</table>\n",
       "</div>"
      ],
      "text/plain": [
       "  Specialist    Task  Allocation\n",
       "0      ('A',    'I')         0.0\n",
       "0      ('A',   'II')         0.0\n",
       "0      ('A',  'III')        17.0\n",
       "0      ('B',    'I')         0.0\n",
       "0      ('B',   'II')         7.0\n",
       "0      ('B',  'III')         5.0\n",
       "0      ('C',    'I')         0.0\n",
       "0      ('C',   'II')         8.0\n",
       "0      ('C',  'III')         0.0\n",
       "0      ('D',    'I')        10.0\n",
       "0      ('D',   'II')         0.0\n",
       "0      ('D',  'III')         0.0"
      ]
     },
     "metadata": {},
     "output_type": "display_data"
    }
   ],
   "source": [
    "# Wyświetlenie wyników\n",
    "if model.status == pulp.LpStatusOptimal:\n",
    "    print(\"Znaleziono optymalne rozwiązanie\")\n",
    "    display(results_df)\n",
    "else:\n",
    "    print(\"Nie znaleziono optymalnego rozwiązania\")"
   ]
  },
  {
   "cell_type": "code",
   "execution_count": 128,
   "metadata": {},
   "outputs": [],
   "source": [
    "def optimize_allocation(w_efficiency, w_cost):\n",
    "    # Dane dotyczące specjalistów, zadań, wydajności i kosztów\n",
    "    specialists = {'A': 17, 'B': 12, 'C': 8, 'D': 10}\n",
    "    tasks = {'I': 10, 'II': 15, 'III': 12}\n",
    "    efficiency = {\n",
    "        'A': {'I': 1.2, 'II': 1.0, 'III': 0.8},\n",
    "        'B': {'I': 0.9, 'II': 1.3, 'III': 0.7},\n",
    "        'C': {'I': 0.7, 'II': 0.8, 'III': 1.1},\n",
    "        'D': {'I': 1.0, 'II': 0.9, 'III': 1.2}\n",
    "    }\n",
    "    costs = {\n",
    "        'A': {'I': 100, 'II': 120, 'III': 110},\n",
    "        'B': {'I': 90, 'II': 100, 'III': 95},\n",
    "        'C': {'I': 85, 'II': 105, 'III': 90},\n",
    "        'D': {'I': 95, 'II': 115, 'III': 100}\n",
    "    }\n",
    "\n",
    "    # Tworzenie tabeli funkcji celu\n",
    "    objective_data = []\n",
    "    for s, tasks_eff in efficiency.items():\n",
    "        for t, eff in tasks_eff.items():\n",
    "            objective_data.append({\n",
    "                \"Variable\": f\"Allocation_{s}_{t}\",\n",
    "                \"Coefficient (Efficiency)\": eff * w_efficiency,\n",
    "                \"Coefficient (Cost)\": -costs[s][t] * w_cost\n",
    "            })\n",
    "    objective_df = pd.DataFrame(objective_data)\n",
    "\n",
    "    # Tworzenie tabeli ograniczeń\n",
    "    constraints_data = []\n",
    "    for s, avail in specialists.items():\n",
    "        constraints_data.append({\"Constraint\": f\"Sum of {s} allocations\", \"Value\": avail})\n",
    "    for t, demand in tasks.items():\n",
    "        constraints_data.append({\"Constraint\": f\"Total for task {t}\", \"Value\": demand})\n",
    "    constraints_df = pd.DataFrame(constraints_data)\n",
    "\n",
    "    # Inicjalizacja modelu\n",
    "    model = pulp.LpProblem(\"Optimal_Specialist_Allocation\", pulp.LpMaximize)\n",
    "\n",
    "    # Zmienne decyzyjne\n",
    "    allocation = pulp.LpVariable.dicts(\"Allocation\", \n",
    "                                       ((s, t) for s in specialists for t in tasks), \n",
    "                                       lowBound=0, cat='Integer')\n",
    "\n",
    "    # Dodanie funkcji celu do modelu\n",
    "    model += pulp.lpSum([efficiency[s][t] * w_efficiency * allocation[(s, t)] \n",
    "                         - costs[s][t] * w_cost * allocation[(s, t)] \n",
    "                         for s in specialists for t in tasks])\n",
    "\n",
    "    # Dodanie ograniczeń dotyczących dostępności specjalistów\n",
    "    for s in specialists:\n",
    "        model += pulp.lpSum([allocation[(s, t)] for t in tasks]) <= specialists[s]\n",
    "\n",
    "    # Dodanie ograniczeń dotyczących zapotrzebowania na zadania\n",
    "    for t in tasks:\n",
    "        model += pulp.lpSum([allocation[(s, t)] for s in specialists]) >= tasks[t]\n",
    "\n",
    "    # Rozwiązanie problemu\n",
    "    model.solve()\n",
    "\n",
    "    # Tworzenie DataFrame do wyświetlenia wyników\n",
    "    results_df = pd.DataFrame(columns=[\"Specialist\", \"Task\", \"Allocation\"])\n",
    "    for v in model.variables():\n",
    "        if v.varValue > 0:\n",
    "            specialist, task = v.name.split(\"_\")[1:]\n",
    "            new_row = pd.DataFrame({\"Specialist\": [specialist], \"Task\": [task], \"Allocation\": [v.varValue]})\n",
    "            results_df = pd.concat([results_df, new_row], ignore_index=False)\n",
    "            \n",
    "\n",
    "    # Zwrócenie wyników i tablic\n",
    "    return results_df, objective_df, constraints_df"
   ]
  },
  {
   "cell_type": "markdown",
   "metadata": {},
   "source": [
    "Variable: Reprezentuje zmienną decyzyjną w modelu, która w tym przypadku określa przydział specjalisty do określonego zadania. Na przykład Allocation_A_I oznacza przydział specjalistów typu A do zadania I.\n",
    "\n",
    "    Coefficient (Efficiency): Jest to współczynnik efektywności przypisany do konkretnej kombinacji specjalisty i zadania, pomnożony przez wagę efektywności (w_efficiency). Na przykład, jeśli efektywność specjalisty typu A przy zadaniu I wynosi 1.2, a waga efektywności wynosi 1.0, to współczynnik efektywności dla Allocation_A_I będzie wynosić 1.2×1.0=1.21.2×1.0=1.2.\n",
    "\n",
    "    Coefficient (Cost): Jest to współczynnik kosztu przypisany do tej samej kombinacji specjalisty i zadania, pomnożony przez wagę kosztu (w_cost), ale z wartością ujemną, ponieważ chcemy minimalizować koszty. Na przykład, jeśli koszt utrzymania specjalisty typu A przy zadaniu I wynosi 100, a waga kosztu wynosi 0.01, to współczynnik kosztu dla Allocation_A_I będzie wynosić −100×0.01=−1.0−100×0.01=−1.0.\n",
    "\n",
    "W funkcji celu modelu liniowego, te współczynniki są mnożnikami dla zmiennych decyzyjnych. Funkcja celu sumuje te iloczyny dla wszystkich kombinacji specjalistów i zadań. W ten sposób model stara się maksymalizować ogólną wydajność przy jednoczesnej minimalizacji kosztów."
   ]
  },
  {
   "cell_type": "code",
   "execution_count": 129,
   "metadata": {},
   "outputs": [
    {
     "name": "stderr",
     "output_type": "stream",
     "text": [
      "C:\\Users\\Piotr\\AppData\\Local\\Temp\\ipykernel_2648\\1400068516.py:67: FutureWarning: The behavior of DataFrame concatenation with empty or all-NA entries is deprecated. In a future version, this will no longer exclude empty or all-NA columns when determining the result dtypes. To retain the old behavior, exclude the relevant entries before the concat operation.\n",
      "  results_df = pd.concat([results_df, new_row], ignore_index=False)\n"
     ]
    },
    {
     "data": {
      "text/plain": [
       "(  Specialist    Task  Allocation\n",
       " 0      ('A',    'I')        14.0\n",
       " 0      ('A',   'II')         3.0\n",
       " 0      ('B',   'II')        12.0\n",
       " 0      ('C',  'III')         8.0\n",
       " 0      ('D',  'III')        10.0,\n",
       "             Variable  Coefficient (Efficiency)  Coefficient (Cost)\n",
       " 0     Allocation_A_I                       1.2               -1.00\n",
       " 1    Allocation_A_II                       1.0               -1.20\n",
       " 2   Allocation_A_III                       0.8               -1.10\n",
       " 3     Allocation_B_I                       0.9               -0.90\n",
       " 4    Allocation_B_II                       1.3               -1.00\n",
       " 5   Allocation_B_III                       0.7               -0.95\n",
       " 6     Allocation_C_I                       0.7               -0.85\n",
       " 7    Allocation_C_II                       0.8               -1.05\n",
       " 8   Allocation_C_III                       1.1               -0.90\n",
       " 9     Allocation_D_I                       1.0               -0.95\n",
       " 10   Allocation_D_II                       0.9               -1.15\n",
       " 11  Allocation_D_III                       1.2               -1.00,\n",
       "              Constraint  Value\n",
       " 0  Sum of A allocations     17\n",
       " 1  Sum of B allocations     12\n",
       " 2  Sum of C allocations      8\n",
       " 3  Sum of D allocations     10\n",
       " 4      Total for task I     10\n",
       " 5     Total for task II     15\n",
       " 6    Total for task III     12)"
      ]
     },
     "execution_count": 129,
     "metadata": {},
     "output_type": "execute_result"
    }
   ],
   "source": [
    "w_efficiency = 1.0  # Waga dla wydajności\n",
    "w_cost = 0.01       # Waga dla kosztów, może wymagać dostosowania\n",
    "optimize_allocation(w_efficiency, w_cost)"
   ]
  },
  {
   "cell_type": "code",
   "execution_count": 106,
   "metadata": {},
   "outputs": [
    {
     "name": "stderr",
     "output_type": "stream",
     "text": [
      "C:\\Users\\Piotr\\AppData\\Local\\Temp\\ipykernel_2648\\69598858.py:29: FutureWarning: The behavior of DataFrame concatenation with empty or all-NA entries is deprecated. In a future version, this will no longer exclude empty or all-NA columns when determining the result dtypes. To retain the old behavior, exclude the relevant entries before the concat operation.\n",
      "  results_df = pd.concat([results_df, new_row], ignore_index=False)\n"
     ]
    },
    {
     "data": {
      "text/html": [
       "<div>\n",
       "<style scoped>\n",
       "    .dataframe tbody tr th:only-of-type {\n",
       "        vertical-align: middle;\n",
       "    }\n",
       "\n",
       "    .dataframe tbody tr th {\n",
       "        vertical-align: top;\n",
       "    }\n",
       "\n",
       "    .dataframe thead th {\n",
       "        text-align: right;\n",
       "    }\n",
       "</style>\n",
       "<table border=\"1\" class=\"dataframe\">\n",
       "  <thead>\n",
       "    <tr style=\"text-align: right;\">\n",
       "      <th></th>\n",
       "      <th>Specialist</th>\n",
       "      <th>Task</th>\n",
       "      <th>Allocation</th>\n",
       "    </tr>\n",
       "  </thead>\n",
       "  <tbody>\n",
       "    <tr>\n",
       "      <th>0</th>\n",
       "      <td>('A',</td>\n",
       "      <td>'I')</td>\n",
       "      <td>17.0</td>\n",
       "    </tr>\n",
       "    <tr>\n",
       "      <th>0</th>\n",
       "      <td>('B',</td>\n",
       "      <td>'II')</td>\n",
       "      <td>12.0</td>\n",
       "    </tr>\n",
       "    <tr>\n",
       "      <th>0</th>\n",
       "      <td>('C',</td>\n",
       "      <td>'III')</td>\n",
       "      <td>8.0</td>\n",
       "    </tr>\n",
       "    <tr>\n",
       "      <th>0</th>\n",
       "      <td>('D',</td>\n",
       "      <td>'II')</td>\n",
       "      <td>3.0</td>\n",
       "    </tr>\n",
       "    <tr>\n",
       "      <th>0</th>\n",
       "      <td>('D',</td>\n",
       "      <td>'III')</td>\n",
       "      <td>7.0</td>\n",
       "    </tr>\n",
       "  </tbody>\n",
       "</table>\n",
       "</div>"
      ],
      "text/plain": [
       "  Specialist    Task  Allocation\n",
       "0      ('A',    'I')        17.0\n",
       "0      ('B',   'II')        12.0\n",
       "0      ('C',  'III')         8.0\n",
       "0      ('D',   'II')         3.0\n",
       "0      ('D',  'III')         7.0"
      ]
     },
     "execution_count": 106,
     "metadata": {},
     "output_type": "execute_result"
    }
   ],
   "source": [
    "def optimize_allocation_with_sensitivity(w_efficiency, w_cost, cost_change_A_II, efficiency_change_A):\n",
    "    # Aktualizacja danych dotyczących kosztów i wydajności\n",
    "    costs['A']['II'] += cost_change_A_II\n",
    "    for task in efficiency['A']:\n",
    "        efficiency['A'][task] += efficiency_change_A\n",
    "\n",
    "    # Reszta funkcji pozostaje bez zmian\n",
    "    model = pulp.LpProblem(\"Optimal_Specialist_Allocation\", pulp.LpMaximize)\n",
    "    allocation = pulp.LpVariable.dicts(\"Allocation\", \n",
    "                                       ((s, t) for s in specialists for t in tasks), \n",
    "                                       lowBound=0, cat='Integer')\n",
    "\n",
    "    model += pulp.lpSum([efficiency[s][t] * w_efficiency * allocation[(s, t)] \n",
    "                         - costs[s][t] * w_cost * allocation[(s, t)] \n",
    "                         for s in specialists for t in tasks])\n",
    "\n",
    "    for s in specialists:\n",
    "        model += pulp.lpSum([allocation[(s, t)] for t in tasks]) <= specialists[s]\n",
    "    for t in tasks:\n",
    "        model += pulp.lpSum([allocation[(s, t)] for s in specialists]) >= tasks[t]\n",
    "\n",
    "    model.solve()\n",
    "\n",
    "    results_df = pd.DataFrame(columns=[\"Specialist\", \"Task\", \"Allocation\"])\n",
    "    for v in model.variables():\n",
    "        if v.varValue > 0:\n",
    "            specialist, task = v.name.split(\"_\")[1:]\n",
    "            new_row = pd.DataFrame({\"Specialist\": [specialist], \"Task\": [task], \"Allocation\": [v.varValue]})\n",
    "            results_df = pd.concat([results_df, new_row], ignore_index=False)\n",
    "            \n",
    "\n",
    "    return results_df\n",
    "\n",
    "# Przykładowe wywołanie funkcji z zmianą kosztów i wydajności\n",
    "cost_change_A_II = 10  # Zwiększenie kosztów o 10\n",
    "efficiency_change_A = 0.1  # Zwiększenie wydajności o 0.1\n",
    "df = optimize_allocation_with_sensitivity(1.0, 0.01, cost_change_A_II, efficiency_change_A)\n",
    "df\n"
   ]
  },
  {
   "cell_type": "code",
   "execution_count": 107,
   "metadata": {},
   "outputs": [
    {
     "name": "stdout",
     "output_type": "stream",
     "text": [
      "<bound method DataFrame.iterrows of   Specialist    Task  Allocation\n",
      "0      ('A',    'I')        17.0\n",
      "1      ('B',    'I')         3.0\n",
      "2      ('B',   'II')         9.0\n",
      "3      ('C',  'III')         8.0\n",
      "4      ('D',   'II')         6.0\n",
      "5      ('D',  'III')         4.0>\n"
     ]
    }
   ],
   "source": [
    "print(result_df.iterrows)"
   ]
  },
  {
   "cell_type": "code",
   "execution_count": 108,
   "metadata": {},
   "outputs": [
    {
     "name": "stderr",
     "output_type": "stream",
     "text": [
      "C:\\Users\\Piotr\\AppData\\Local\\Temp\\ipykernel_2648\\69598858.py:29: FutureWarning: The behavior of DataFrame concatenation with empty or all-NA entries is deprecated. In a future version, this will no longer exclude empty or all-NA columns when determining the result dtypes. To retain the old behavior, exclude the relevant entries before the concat operation.\n",
      "  results_df = pd.concat([results_df, new_row], ignore_index=False)\n"
     ]
    },
    {
     "ename": "KeyError",
     "evalue": "\"('A',\"",
     "output_type": "error",
     "traceback": [
      "\u001b[1;31m---------------------------------------------------------------------------\u001b[0m",
      "\u001b[1;31mKeyError\u001b[0m                                  Traceback (most recent call last)",
      "Cell \u001b[1;32mIn[108], line 59\u001b[0m\n\u001b[0;32m     56\u001b[0m efficiency_range \u001b[38;5;241m=\u001b[39m np\u001b[38;5;241m.\u001b[39mlinspace(\u001b[38;5;241m-\u001b[39m\u001b[38;5;241m0.5\u001b[39m, \u001b[38;5;241m0.5\u001b[39m, \u001b[38;5;241m10\u001b[39m)  \u001b[38;5;66;03m# Zakres zmiany wydajności\u001b[39;00m\n\u001b[0;32m     58\u001b[0m \u001b[38;5;66;03m# Przeprowadzenie analizy\u001b[39;00m\n\u001b[1;32m---> 59\u001b[0m \u001b[43mperform_sensitivity_analysis\u001b[49m\u001b[43m(\u001b[49m\u001b[43mcost_range\u001b[49m\u001b[43m,\u001b[49m\u001b[43m \u001b[49m\u001b[43mefficiency_range\u001b[49m\u001b[43m,\u001b[49m\u001b[43m \u001b[49m\u001b[38;5;241;43m1.0\u001b[39;49m\u001b[43m,\u001b[49m\u001b[43m \u001b[49m\u001b[38;5;241;43m0.01\u001b[39;49m\u001b[43m)\u001b[49m\n",
      "Cell \u001b[1;32mIn[108], line 18\u001b[0m, in \u001b[0;36mperform_sensitivity_analysis\u001b[1;34m(cost_range, efficiency_range, w_efficiency, w_cost)\u001b[0m\n\u001b[0;32m     16\u001b[0m     \u001b[38;5;28;01mfor\u001b[39;00m cost_change \u001b[38;5;129;01min\u001b[39;00m cost_range:\n\u001b[0;32m     17\u001b[0m         result_df \u001b[38;5;241m=\u001b[39m optimize_allocation_with_sensitivity(w_efficiency, w_cost, cost_change, \u001b[38;5;241m0\u001b[39m)\n\u001b[1;32m---> 18\u001b[0m         total_cost \u001b[38;5;241m=\u001b[39m \u001b[38;5;28msum\u001b[39m([\u001b[43mcosts\u001b[49m\u001b[43m[\u001b[49m\u001b[43mrow\u001b[49m\u001b[43m[\u001b[49m\u001b[38;5;124;43m'\u001b[39;49m\u001b[38;5;124;43mSpecialist\u001b[39;49m\u001b[38;5;124;43m'\u001b[39;49m\u001b[43m]\u001b[49m\u001b[43m]\u001b[49m[row[\u001b[38;5;124m'\u001b[39m\u001b[38;5;124mTask\u001b[39m\u001b[38;5;124m'\u001b[39m]] \u001b[38;5;241m*\u001b[39m row[\u001b[38;5;124m'\u001b[39m\u001b[38;5;124mAllocation\u001b[39m\u001b[38;5;124m'\u001b[39m]\n\u001b[0;32m     19\u001b[0m                         \u001b[38;5;28;01mfor\u001b[39;00m index, row \u001b[38;5;129;01min\u001b[39;00m result_df\u001b[38;5;241m.\u001b[39miterrows()])\n\u001b[0;32m     20\u001b[0m         cost_results\u001b[38;5;241m.\u001b[39mappend(total_cost)\n\u001b[0;32m     22\u001b[0m \u001b[38;5;66;03m# Podobnie dla analizy zmiany wydajności\u001b[39;00m\n\u001b[0;32m     23\u001b[0m \n\u001b[0;32m     24\u001b[0m \n\u001b[0;32m     25\u001b[0m \n\u001b[0;32m     26\u001b[0m \n\u001b[0;32m     27\u001b[0m     \u001b[38;5;66;03m# Analiza zmiany wydajności\u001b[39;00m\n",
      "\u001b[1;31mKeyError\u001b[0m: \"('A',\""
     ]
    }
   ],
   "source": [
    "import matplotlib.pyplot as plt\n",
    "import numpy as np\n",
    "\n",
    "def perform_sensitivity_analysis(cost_range, efficiency_range, w_efficiency, w_cost):\n",
    "    cost_results = []\n",
    "    efficiency_results = []\n",
    "\n",
    "    # Analiza zmiany kosztów\n",
    "    # for cost_change in cost_range:\n",
    "    #     result_df = optimize_allocation_with_sensitivity(w_efficiency, w_cost, cost_change, 0)\n",
    "    #     total_cost = sum([costs[row['Specialist']][row['Task']] * row['Allocation']\n",
    "    #                       for index, row in result_df.iterrows()])\n",
    "    #     cost_results.append(total_cost)\n",
    "\n",
    "\n",
    "    for cost_change in cost_range:\n",
    "        result_df = optimize_allocation_with_sensitivity(w_efficiency, w_cost, cost_change, 0)\n",
    "        total_cost = sum([costs[row['Specialist']][row['Task']] * row['Allocation']\n",
    "                        for index, row in result_df.iterrows()])\n",
    "        cost_results.append(total_cost)\n",
    "\n",
    "# Podobnie dla analizy zmiany wydajności\n",
    "\n",
    "\n",
    "\n",
    "\n",
    "    # Analiza zmiany wydajności\n",
    "    for efficiency_change in efficiency_range:\n",
    "        result_df = optimize_allocation_with_sensitivity(w_efficiency, w_cost, 0, efficiency_change)\n",
    "        total_efficiency = sum([efficiency[row['Specialist']][row['Task']] * row['Allocation']\n",
    "                                for index, row in result_df.iterrows()])\n",
    "        efficiency_results.append(total_efficiency)\n",
    "\n",
    "    # Tworzenie wykresów\n",
    "    plt.figure(figsize=(12, 6))\n",
    "\n",
    "    # Wykres dla zmiany kosztów\n",
    "    plt.subplot(1, 2, 1)\n",
    "    plt.plot(cost_range, cost_results, marker='o')\n",
    "    plt.title('Zmiana ogólnych kosztów w zależności od zmiany kosztu A_II')\n",
    "    plt.xlabel('Zmiana kosztu A_II')\n",
    "    plt.ylabel('Łączny koszt')\n",
    "\n",
    "    # Wykres dla zmiany wydajności\n",
    "    plt.subplot(1, 2, 2)\n",
    "    plt.plot(efficiency_range, efficiency_results, marker='o', color='green')\n",
    "    plt.title('Zmiana ogólnej wydajności w zależności od zmiany wydajności A')\n",
    "    plt.xlabel('Zmiana wydajności A')\n",
    "    plt.ylabel('Łączna wydajność')\n",
    "\n",
    "    plt.tight_layout()\n",
    "    plt.show()\n",
    "\n",
    "# Zakresy zmian dla analizy\n",
    "cost_range = np.linspace(-20, 20, 10)  # Zakres zmiany kosztów\n",
    "efficiency_range = np.linspace(-0.5, 0.5, 10)  # Zakres zmiany wydajności\n",
    "\n",
    "# Przeprowadzenie analizy\n",
    "perform_sensitivity_analysis(cost_range, efficiency_range, 1.0, 0.01)\n"
   ]
  },
  {
   "cell_type": "code",
   "execution_count": 85,
   "metadata": {},
   "outputs": [
    {
     "name": "stderr",
     "output_type": "stream",
     "text": [
      "C:\\Users\\Piotr\\AppData\\Local\\Temp\\ipykernel_2648\\2734447012.py:29: FutureWarning: The behavior of DataFrame concatenation with empty or all-NA entries is deprecated. In a future version, this will no longer exclude empty or all-NA columns when determining the result dtypes. To retain the old behavior, exclude the relevant entries before the concat operation.\n",
      "  results_df = pd.concat([results_df, new_row], ignore_index=True)\n"
     ]
    },
    {
     "ename": "KeyError",
     "evalue": "\"('A',\"",
     "output_type": "error",
     "traceback": [
      "\u001b[1;31m---------------------------------------------------------------------------\u001b[0m",
      "\u001b[1;31mKeyError\u001b[0m                                  Traceback (most recent call last)",
      "Cell \u001b[1;32mIn[85], line 10\u001b[0m\n\u001b[0;32m      8\u001b[0m \u001b[38;5;28;01mfor\u001b[39;00m w_cost \u001b[38;5;129;01min\u001b[39;00m w_cost_range:\n\u001b[0;32m      9\u001b[0m     result_df \u001b[38;5;241m=\u001b[39m optimize_allocation_with_sensitivity(w_efficiency, w_cost, \u001b[38;5;241m0\u001b[39m, \u001b[38;5;241m0\u001b[39m)\n\u001b[1;32m---> 10\u001b[0m     total_cost \u001b[38;5;241m=\u001b[39m \u001b[38;5;28msum\u001b[39m([\u001b[43mcosts\u001b[49m\u001b[43m[\u001b[49m\u001b[43mrow\u001b[49m\u001b[43m[\u001b[49m\u001b[38;5;124;43m'\u001b[39;49m\u001b[38;5;124;43mSpecialist\u001b[39;49m\u001b[38;5;124;43m'\u001b[39;49m\u001b[43m]\u001b[49m\u001b[43m]\u001b[49m[row[\u001b[38;5;124m'\u001b[39m\u001b[38;5;124mTask\u001b[39m\u001b[38;5;124m'\u001b[39m]] \u001b[38;5;241m*\u001b[39m row[\u001b[38;5;124m'\u001b[39m\u001b[38;5;124mAllocation\u001b[39m\u001b[38;5;124m'\u001b[39m]\n\u001b[0;32m     11\u001b[0m                       \u001b[38;5;28;01mfor\u001b[39;00m index, row \u001b[38;5;129;01min\u001b[39;00m result_df\u001b[38;5;241m.\u001b[39miterrows()])\n\u001b[0;32m     12\u001b[0m     total_efficiency \u001b[38;5;241m=\u001b[39m \u001b[38;5;28msum\u001b[39m([efficiency[row[\u001b[38;5;124m'\u001b[39m\u001b[38;5;124mSpecialist\u001b[39m\u001b[38;5;124m'\u001b[39m]][row[\u001b[38;5;124m'\u001b[39m\u001b[38;5;124mTask\u001b[39m\u001b[38;5;124m'\u001b[39m]] \u001b[38;5;241m*\u001b[39m row[\u001b[38;5;124m'\u001b[39m\u001b[38;5;124mAllocation\u001b[39m\u001b[38;5;124m'\u001b[39m]\n\u001b[0;32m     13\u001b[0m                             \u001b[38;5;28;01mfor\u001b[39;00m index, row \u001b[38;5;129;01min\u001b[39;00m result_df\u001b[38;5;241m.\u001b[39miterrows()])\n\u001b[0;32m     14\u001b[0m     pareto_data\u001b[38;5;241m.\u001b[39mappend((total_efficiency, total_cost))\n",
      "\u001b[1;31mKeyError\u001b[0m: \"('A',\""
     ]
    }
   ],
   "source": [
    "\n",
    "\n",
    "# Zakres wag do eksploracji\n",
    "w_efficiency_range = np.linspace(0.1, 1, 10)\n",
    "w_cost_range = np.linspace(0.01, 0.1, 10)\n",
    "\n",
    "pareto_data = []\n",
    "\n",
    "for w_efficiency in w_efficiency_range:\n",
    "    for w_cost in w_cost_range:\n",
    "        result_df = optimize_allocation_with_sensitivity(w_efficiency, w_cost, 0, 0)\n",
    "        total_cost = sum([costs[row['Specialist']][row['Task']] * row['Allocation']\n",
    "                          for index, row in result_df.iterrows()])\n",
    "        total_efficiency = sum([efficiency[row['Specialist']][row['Task']] * row['Allocation']\n",
    "                                for index, row in result_df.iterrows()])\n",
    "        pareto_data.append((total_efficiency, total_cost))\n",
    "\n",
    "# Tworzenie DataFrame i wykresu\n",
    "pareto_df = pd.DataFrame(pareto_data, columns=['Total Efficiency', 'Total Cost'])\n",
    "pareto_df = pareto_df.drop_duplicates().sort_values(by='Total Efficiency')\n",
    "\n",
    "plt.figure(figsize=(10, 6))\n",
    "plt.scatter(pareto_df['Total Efficiency'], pareto_df['Total Cost'], color='blue')\n",
    "plt.title('Wykres Pareto dla Wydajności i Kosztów')\n",
    "plt.xlabel('Łączna Wydajność')\n",
    "plt.ylabel('Łączny Koszt')\n",
    "plt.grid(True)\n",
    "plt.show()\n",
    "\n",
    "pareto_df\n"
   ]
  }
 ],
 "metadata": {
  "kernelspec": {
   "display_name": "Python 3",
   "language": "python",
   "name": "python3"
  },
  "language_info": {
   "codemirror_mode": {
    "name": "ipython",
    "version": 3
   },
   "file_extension": ".py",
   "mimetype": "text/x-python",
   "name": "python",
   "nbconvert_exporter": "python",
   "pygments_lexer": "ipython3",
   "version": "3.12.1"
  }
 },
 "nbformat": 4,
 "nbformat_minor": 2
}
